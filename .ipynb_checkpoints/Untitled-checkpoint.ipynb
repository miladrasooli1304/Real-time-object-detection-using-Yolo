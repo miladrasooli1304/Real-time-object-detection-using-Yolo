{
 "cells": [
  {
   "cell_type": "code",
   "execution_count": 2,
   "id": "29b5ce88",
   "metadata": {},
   "outputs": [],
   "source": [
    "import cv2\n",
    "import matplotlib.pyplot as plt \n",
    "from ultralytics import YOLO as yo"
   ]
  },
  {
   "cell_type": "code",
   "execution_count": 3,
   "id": "77cd3198",
   "metadata": {},
   "outputs": [],
   "source": [
    "model = yo(\"C:/Users/Hp/python/مبای ریاضی و هوش مصنوعی سرس کد ها/yolo8/Real_time_Object_Tracking/custom/runs/detect/train/weights/best.pt\")"
   ]
  },
  {
   "cell_type": "code",
   "execution_count": 4,
   "id": "dd150d5d",
   "metadata": {},
   "outputs": [
    {
     "data": {
      "text/plain": [
       "{0: 'Azadi', 1: 'attack', 2: 'fuck', 3: 'sorat', 4: 'taslim'}"
      ]
     },
     "execution_count": 4,
     "metadata": {},
     "output_type": "execute_result"
    }
   ],
   "source": [
    "model.names"
   ]
  },
  {
   "cell_type": "code",
   "execution_count": null,
   "id": "624bb3de",
   "metadata": {},
   "outputs": [
    {
     "name": "stdout",
     "output_type": "stream",
     "text": [
      "\n",
      "0: 480x640 (no detections), 221.8ms\n",
      "Speed: 13.1ms preprocess, 221.8ms inference, 2266.1ms postprocess per image at shape (1, 3, 480, 640)\n",
      "\n",
      "0: 480x640 1 taslim, 310.3ms\n",
      "Speed: 6.0ms preprocess, 310.3ms inference, 3.0ms postprocess per image at shape (1, 3, 480, 640)\n",
      "\n",
      "0: 480x640 1 taslim, 220.6ms\n",
      "Speed: 8.0ms preprocess, 220.6ms inference, 3.0ms postprocess per image at shape (1, 3, 480, 640)\n",
      "\n",
      "0: 480x640 1 taslim, 252.6ms\n",
      "Speed: 4.0ms preprocess, 252.6ms inference, 1.0ms postprocess per image at shape (1, 3, 480, 640)\n",
      "\n",
      "0: 480x640 1 taslim, 245.7ms\n",
      "Speed: 6.0ms preprocess, 245.7ms inference, 1.0ms postprocess per image at shape (1, 3, 480, 640)\n",
      "\n",
      "0: 480x640 1 taslim, 259.9ms\n",
      "Speed: 11.0ms preprocess, 259.9ms inference, 1.0ms postprocess per image at shape (1, 3, 480, 640)\n",
      "\n",
      "0: 480x640 1 taslim, 297.9ms\n",
      "Speed: 5.0ms preprocess, 297.9ms inference, 2.0ms postprocess per image at shape (1, 3, 480, 640)\n",
      "\n",
      "0: 480x640 1 taslim, 350.8ms\n",
      "Speed: 27.0ms preprocess, 350.8ms inference, 3.0ms postprocess per image at shape (1, 3, 480, 640)\n",
      "\n",
      "0: 480x640 1 taslim, 233.6ms\n",
      "Speed: 8.0ms preprocess, 233.6ms inference, 1.0ms postprocess per image at shape (1, 3, 480, 640)\n",
      "\n",
      "0: 480x640 1 taslim, 212.9ms\n",
      "Speed: 4.0ms preprocess, 212.9ms inference, 1.0ms postprocess per image at shape (1, 3, 480, 640)\n",
      "\n",
      "0: 480x640 1 Azadi, 1 taslim, 226.7ms\n",
      "Speed: 4.0ms preprocess, 226.7ms inference, 2.0ms postprocess per image at shape (1, 3, 480, 640)\n",
      "\n",
      "0: 480x640 1 Azadi, 1 taslim, 266.4ms\n",
      "Speed: 5.0ms preprocess, 266.4ms inference, 1.0ms postprocess per image at shape (1, 3, 480, 640)\n",
      "\n",
      "0: 480x640 1 Azadi, 1 taslim, 231.2ms\n",
      "Speed: 7.5ms preprocess, 231.2ms inference, 1.0ms postprocess per image at shape (1, 3, 480, 640)\n",
      "\n",
      "0: 480x640 1 Azadi, 1 taslim, 207.5ms\n",
      "Speed: 5.0ms preprocess, 207.5ms inference, 1.0ms postprocess per image at shape (1, 3, 480, 640)\n",
      "\n"
     ]
    }
   ],
   "source": [
    "cap = cv2.VideoCapture(0)\n",
    "while cap.isOpened():\n",
    "    ans,frame = cap.read()\n",
    "    if ans:\n",
    "        results = model.track(frame,persist = True,show  = False)\n",
    "        cv2.imshow(\"Camera\", results[0].plot())\n",
    "    if cv2.waitKey(1) == ord(\"q\"):\n",
    "       break\n",
    "    \n",
    "    \n",
    "    \n",
    "cap.release()\n",
    "cv2.destroyAllWindows()\n"
   ]
  },
  {
   "cell_type": "code",
   "execution_count": null,
   "id": "4ef1392a",
   "metadata": {},
   "outputs": [],
   "source": []
  },
  {
   "cell_type": "code",
   "execution_count": null,
   "id": "591cb4cb",
   "metadata": {},
   "outputs": [],
   "source": []
  }
 ],
 "metadata": {
  "kernelspec": {
   "display_name": "Python 3 (ipykernel)",
   "language": "python",
   "name": "python3"
  },
  "language_info": {
   "codemirror_mode": {
    "name": "ipython",
    "version": 3
   },
   "file_extension": ".py",
   "mimetype": "text/x-python",
   "name": "python",
   "nbconvert_exporter": "python",
   "pygments_lexer": "ipython3",
   "version": "3.10.9"
  }
 },
 "nbformat": 4,
 "nbformat_minor": 5
}
