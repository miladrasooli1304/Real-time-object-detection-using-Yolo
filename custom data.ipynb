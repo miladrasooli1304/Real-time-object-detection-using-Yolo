{
 "cells": [
  {
   "cell_type": "code",
   "execution_count": 2,
   "id": "82de1a9c",
   "metadata": {},
   "outputs": [],
   "source": [
    "import cv2\n",
    "import matplotlib.pyplot as plt"
   ]
  },
  {
   "cell_type": "code",
   "execution_count": 4,
   "id": "5434e407",
   "metadata": {},
   "outputs": [],
   "source": [
    "def vid_cap(nuum = 0):\n",
    "    \"\"\"\n",
    "    Captures video information from a specified device.\n",
    "\n",
    "    Args:\n",
    "        num (int, optional): The index of the video capture device. Defaults to 0 (usually the default camera).\n",
    "\n",
    "    Returns:\n",
    "        tuple: A tuple containing the device index, height, and width of the video frames.\n",
    "            If the device cannot be opened, returns (num, None, None).\n",
    "    \"\"\"\n",
    "\n",
    "\n",
    "    cap = cv2.VideoCapture(nuum) # Create a VideoCapture object for the specified device\n",
    "    if cap.isOpened():# Check if the device was opened successfully\n",
    "\n",
    "        # Get the height and width of the video frames\n",
    "        h = cap.get(cv2.CAP_PROP_FRAME_HEIGHT)\n",
    "        w = cap.get(cv2.CAP_PROP_FRAME_WIDTH)\n",
    "\n",
    "        # Release the video capture object\n",
    "        cap.release()\n",
    "         # Return the device index, height, and width\n",
    "        return nuum,h,w\n",
    "    else:\n",
    "        # Return None for height and width if the device cannot be opened\n",
    "        return nuum,None,None"
   ]
  },
  {
   "cell_type": "code",
   "execution_count": 5,
   "id": "26c4d716",
   "metadata": {},
   "outputs": [
    {
     "name": "stdout",
     "output_type": "stream",
     "text": [
      "num : 0 \n",
      "  ---- \n",
      "         hight : 480.0\n",
      " ----  \n",
      "         width : 640.0\n",
      "num : 1 \n",
      "  ---- \n",
      "         hight : None\n",
      " ----  \n",
      "         width : None\n",
      "num : 2 \n",
      "  ---- \n",
      "         hight : None\n",
      " ----  \n",
      "         width : None\n",
      "num : 3 \n",
      "  ---- \n",
      "         hight : None\n",
      " ----  \n",
      "         width : None\n",
      "num : 4 \n",
      "  ---- \n",
      "         hight : None\n",
      " ----  \n",
      "         width : None\n",
      "num : 5 \n",
      "  ---- \n",
      "         hight : None\n",
      " ----  \n",
      "         width : None\n",
      "num : 6 \n",
      "  ---- \n",
      "         hight : None\n",
      " ----  \n",
      "         width : None\n",
      "num : 7 \n",
      "  ---- \n",
      "         hight : None\n",
      " ----  \n",
      "         width : None\n",
      "num : 8 \n",
      "  ---- \n",
      "         hight : None\n",
      " ----  \n",
      "         width : None\n",
      "num : 9 \n",
      "  ---- \n",
      "         hight : None\n",
      " ----  \n",
      "         width : None\n"
     ]
    }
   ],
   "source": [
    "for i in range(10): # Iterate 10 times, from 0 to 9\n",
    "\n",
    "    # Call the vid_cap function with the current index 'i'\n",
    "    # to get the video device number, height, and width\n",
    "    nuum,h,w = vid_cap(i)\n",
    "\n",
    "    # Print the obtained information in a formatted string\n",
    "    print(f'num : {nuum} \\n  ---- \\n         hight : {h}\\n ----  \\n         width : {w}')"
   ]
  },
  {
   "cell_type": "code",
   "execution_count": 3,
   "id": "09fe3f8f",
   "metadata": {},
   "outputs": [],
   "source": [
    "def start_camera(s = 0):\n",
    "    \"\"\"\n",
    "    Starts a camera stream and allows for capturing images.\n",
    "\n",
    "    Args:\n",
    "        s (int, optional): A flag to potentially use a different video source. Defaults to 0.\n",
    "    \"\"\"\n",
    "\n",
    "    i = 0 # Counter for saving image filenames\n",
    "    if s==0:\n",
    "        # Capture video from the default camera \n",
    "        cap = cv2.VideoCapture(0)\n",
    "        while cap.isOpened():\n",
    "            # Read a frame from the video capture object\n",
    "            ans,frame = cap.read()\n",
    "            if ans:\n",
    "                cv2.imshow(\"Camera\", frame)\n",
    "            #  # Wait for a key press\n",
    "            key  = cv2.waitKey(1)\n",
    "            if key == ord(\"q\"):\n",
    "                break\n",
    "            # If the 's' key is pressed, save the current frame as an image\n",
    "            elif key == ord(\"s\"):\n",
    "                cv2.imwrite(f'data/img{i}.png',frame)\n",
    "                i += 1\n",
    "                print(i)\n",
    "\n",
    "        # Release the video capture object and close all OpenCV windows\n",
    "        cap.release()\n",
    "        cv2.destroyAllWindows()\n",
    "    else:\n",
    "        print(None)"
   ]
  },
  {
   "cell_type": "code",
   "execution_count": 4,
   "id": "7a2f8164",
   "metadata": {},
   "outputs": [],
   "source": [
    "start_camera(0)"
   ]
  }
 ],
 "metadata": {
  "kernelspec": {
   "display_name": "Python 3 (ipykernel)",
   "language": "python",
   "name": "python3"
  },
  "language_info": {
   "codemirror_mode": {
    "name": "ipython",
    "version": 3
   },
   "file_extension": ".py",
   "mimetype": "text/x-python",
   "name": "python",
   "nbconvert_exporter": "python",
   "pygments_lexer": "ipython3",
   "version": "3.10.9"
  }
 },
 "nbformat": 4,
 "nbformat_minor": 5
}
